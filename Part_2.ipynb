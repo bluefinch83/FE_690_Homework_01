{
 "cells": [
  {
   "cell_type": "markdown",
   "metadata": {},
   "source": [
    "Ok, I'm not going to lie, I didn't know how to do the 2nd part. I started it at 10:00 pm, and that's my fault. Granted, I would send you an email about this, but I don't think it would get to you in time. Anyways, all I was able was add these three routes to the app\\views\\_init__.py file. I have no idea if they work, because I have no idea how to actual run the server on flask or docker. Also, I have no idea how to use json. So, I know it doesn't work, but at least I tried. "
   ]
  },
  {
   "cell_type": "code",
   "execution_count": null,
   "metadata": {},
   "outputs": [],
   "source": [
    "@app.route(\"/sum\")\n",
    "def sum(x, y):\n",
    "    s = x + y\n",
    "    return json.dump(\n",
    "        {\n",
    "            \"sum\": f\"{s}\"\n",
    "        }\n",
    "    )\n",
    "\n",
    "@app.route(\"/minimum\")\n",
    "def minimum(x):\n",
    "    s = min(x)\n",
    "    return json.dump(\n",
    "        {\n",
    "            \"minimum\": f\"{s}\"\n",
    "        }\n",
    "    )\n",
    "\n",
    "@app.route(\"/product\")\n",
    "def product(x):\n",
    "    a = np.array(x)\n",
    "    s = np.prod(a)\n",
    "    return json.dump(\n",
    "        {\n",
    "            \"product\": f\"{s}\"\n",
    "        }\n",
    "    )"
   ]
  }
 ],
 "metadata": {
  "kernelspec": {
   "display_name": "Python 3",
   "language": "python",
   "name": "python3"
  },
  "language_info": {
   "codemirror_mode": {
    "name": "ipython",
    "version": 3
   },
   "file_extension": ".py",
   "mimetype": "text/x-python",
   "name": "python",
   "nbconvert_exporter": "python",
   "pygments_lexer": "ipython3",
   "version": "3.7.3"
  }
 },
 "nbformat": 4,
 "nbformat_minor": 2
}
